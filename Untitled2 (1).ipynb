{
  "nbformat": 4,
  "nbformat_minor": 0,
  "metadata": {
    "colab": {
      "provenance": []
    },
    "kernelspec": {
      "name": "python3",
      "display_name": "Python 3"
    },
    "language_info": {
      "name": "python"
    }
  },
  "cells": [
    {
      "cell_type": "markdown",
      "source": [],
      "metadata": {
        "id": "ZZVxa8XNZsQ8"
      }
    },
    {
      "cell_type": "markdown",
      "source": [
        "1. Introduction\n",
        "\n",
        "In this assignment, I am analyzing the Ebola outbreak dataset (2014–2016). My goals are:\n",
        "\n",
        "To study how the number of Ebola cases and deaths changed over time\n",
        "\n",
        "To compare which countries were most affected\n",
        "\n",
        "To conclude with insights on outbreak trends and control"
      ],
      "metadata": {
        "id": "ChL5bpyVZwJw"
      }
    },
    {
      "cell_type": "markdown",
      "source": [
        "\n",
        "## Step 1: Installing KaggleHub  \n",
        "\n",
        "I am installing the `kagglehub` library, which allows me to directly download datasets from Kaggle into my notebook.  \n"
      ],
      "metadata": {
        "id": "hq6dZk29Z8N1"
      }
    },
    {
      "cell_type": "code",
      "source": [
        "# I am installing kagglehub so that I can directly fetch the dataset from Kaggle\n",
        "!pip install kagglehub\n"
      ],
      "metadata": {
        "id": "H0JIGDpraDu_"
      },
      "execution_count": null,
      "outputs": []
    },
    {
      "cell_type": "markdown",
      "source": [
        "\n",
        "## Step 2: Importing Required Libraries  \n",
        "\n",
        "Here, I am importing Python libraries for data handling and visualization:  \n",
        "- **pandas** and **numpy** → for data analysis and numerical operations  \n",
        "- **matplotlib** and **seaborn** → for static plots  \n",
        "- **plotly.express** → for interactive plots  \n",
        "- **datetime** → to work with dates  \n",
        "- **os** → to access files in the system  \n"
      ],
      "metadata": {
        "id": "K_1w-cwAaGy7"
      }
    },
    {
      "cell_type": "code",
      "source": [
        "# Importing the libraries I need for this analysis\n",
        "import kagglehub\n",
        "import pandas as pd\n",
        "import numpy as np\n",
        "import matplotlib.pyplot as plt\n",
        "import plotly.express as px\n",
        "import seaborn as sns\n",
        "from datetime import datetime\n",
        "import os\n",
        "\n",
        "# Setting plot style for better visuals\n",
        "sns.set(style=\"whitegrid\")\n",
        "plt.rcParams['figure.figsize'] = (12, 6)\n"
      ],
      "metadata": {
        "id": "qWgzdVG_aKoY"
      },
      "execution_count": null,
      "outputs": []
    },
    {
      "cell_type": "markdown",
      "source": [
        "## Step 3: Downloading the Dataset  \n",
        "\n",
        "Using KaggleHub, I will download the Ebola dataset directly from Kaggle.  \n",
        "This will give me access to the raw data stored in a `.csv` file.  \n"
      ],
      "metadata": {
        "id": "Ormn8qemaPdq"
      }
    },
    {
      "cell_type": "code",
      "source": [
        "# Using kagglehub to download the dataset\n",
        "path = kagglehub.dataset_download(\"imdevskp/ebola-outbreak-20142016-complete-dataset\")\n",
        "\n",
        "# I am printing the dataset path to see where it is stored\n",
        "print(\"Path to dataset:\", path)\n",
        "\n",
        "# Checking which files are available in the downloaded dataset\n",
        "os.listdir(path)\n"
      ],
      "metadata": {
        "id": "XsOU2NltaSXP"
      },
      "execution_count": null,
      "outputs": []
    },
    {
      "cell_type": "markdown",
      "source": [
        "## Step 4: Loading the Dataset  \n",
        "\n",
        "Now, I will load the dataset into a **pandas DataFrame** and display the first few rows to understand its structure.  \n"
      ],
      "metadata": {
        "id": "Q-JcS-GcaWSD"
      }
    },
    {
      "cell_type": "code",
      "source": [
        "# Loading the main Ebola CSV file\n",
        "df = pd.read_csv(path + \"/ebola_2014_2016_clean.csv\")\n",
        "\n",
        "# Displaying the first 5 rows to get an idea of the dataset\n",
        "df.head()\n"
      ],
      "metadata": {
        "id": "yXd-Vf2caam7"
      },
      "execution_count": null,
      "outputs": []
    },
    {
      "cell_type": "markdown",
      "source": [
        "## Step 5: Exploring the Dataset  \n",
        "\n",
        "In this step, I will:  \n",
        "- Check the size (rows & columns)  \n",
        "- Look at column names and data types  \n",
        "- Check for missing values  \n",
        "- Generate summary statistics  \n",
        "\n",
        "This helps me understand the dataset before cleaning.  \n"
      ],
      "metadata": {
        "id": "Tih_r4Qfacel"
      }
    },
    {
      "cell_type": "code",
      "source": [
        "# Checking dataset shape (rows, columns)\n",
        "print(\"Shape of dataset:\", df.shape)\n",
        "\n",
        "# Displaying column names and data types\n",
        "df.info()\n",
        "\n",
        "# Checking for missing values\n",
        "df.isnull().sum()\n",
        "\n",
        "# Getting statistical summary of the dataset\n",
        "df.describe()\n"
      ],
      "metadata": {
        "id": "NXGKA7Z5agHn"
      },
      "execution_count": null,
      "outputs": []
    },
    {
      "cell_type": "markdown",
      "source": [
        "## Step 6: Data Cleaning  \n",
        "\n",
        "Here, I am preparing the dataset for analysis:  \n",
        "- Filling missing values with `0` (since cases/deaths cannot be left empty)  \n",
        "- Converting the **Date** column into proper datetime format  \n",
        "- Checking the list of countries included in the dataset  \n"
      ],
      "metadata": {
        "id": "zPaiFlFDaiBo"
      }
    },
    {
      "cell_type": "code",
      "source": [
        "# Filling missing values with 0 because Ebola case counts cannot be NaN\n",
        "df = df.fillna(0)\n",
        "\n",
        "# Converting 'Date' column to datetime format for time-based analysis\n",
        "df['Date'] = pd.to_datetime(df['Date'])\n",
        "\n",
        "# Checking unique countries reported in the dataset\n",
        "df['Country'].unique()\n"
      ],
      "metadata": {
        "id": "d_L2-nXSalPL"
      },
      "execution_count": null,
      "outputs": []
    },
    {
      "cell_type": "markdown",
      "source": [
        "## Step 7.1: Total Ebola Cases Over Time  \n",
        "\n",
        "This line chart shows the trend of **cumulative Ebola cases** from 2014 to 2016.  \n",
        "It helps me visualize how quickly the outbreak spread over time.  \n"
      ],
      "metadata": {
        "id": "zPnuxfgzapQr"
      }
    },
    {
      "cell_type": "code",
      "source": [
        "# Grouping cases by date to see the total trend of Ebola spread\n",
        "cases_time = df.groupby('Date')['Cumulative no. of confirmed, probable and suspected cases'].sum().reset_index()\n",
        "\n",
        "plt.plot(cases_time['Date'], cases_time['Cumulative no. of confirmed, probable and suspected cases'], color='red')\n",
        "plt.title(\"Total Ebola Cases Over Time (2014–2016)\")\n",
        "plt.xlabel(\"Date\")\n",
        "plt.ylabel(\"Cumulative Cases\")\n",
        "plt.show()\n"
      ],
      "metadata": {
        "id": "mlLPXxKIaqHA"
      },
      "execution_count": null,
      "outputs": []
    },
    {
      "cell_type": "markdown",
      "source": [
        "## Step 7.2: Total Ebola Deaths Over Time  \n",
        "\n",
        "This plot shows the **cumulative number of deaths** caused by Ebola over time.  \n",
        "By comparing it with the previous chart, I can observe how deadly the outbreak was.  \n"
      ],
      "metadata": {
        "id": "kARx9Ip2asl7"
      }
    },
    {
      "cell_type": "code",
      "source": [
        "# Grouping deaths by date to check how fatal Ebola was during the outbreak\n",
        "deaths_time = df.groupby('Date')['Cumulative no. of confirmed, probable and suspected deaths'].sum().reset_index()\n",
        "\n",
        "plt.plot(deaths_time['Date'], deaths_time['Cumulative no. of confirmed, probable and suspected deaths'], color='black')\n",
        "plt.title(\"Total Ebola Deaths Over Time (2014–2016)\")\n",
        "plt.xlabel(\"Date\")\n",
        "plt.ylabel(\"Cumulative Deaths\")\n",
        "plt.show()\n"
      ],
      "metadata": {
        "id": "IYgJSdNpaw4E"
      },
      "execution_count": null,
      "outputs": []
    },
    {
      "cell_type": "markdown",
      "source": [
        "## Step 7.3: Country-wise Ebola Cases  \n",
        "\n",
        "Here, I use a bar chart to compare the **total cumulative cases** across different countries.  \n",
        "This makes it clear which countries were most severely affected by the outbreak.  \n"
      ],
      "metadata": {
        "id": "auQSGWiBayk_"
      }
    },
    {
      "cell_type": "code",
      "source": [
        "# Comparing cases between countries to see which were worst affected\n",
        "cases_country = df.groupby('Country')['Cumulative no. of confirmed, probable and suspected cases'].max().reset_index()\n",
        "cases_country = cases_country.sort_values(by='Cumulative no. of confirmed, probable and suspected cases', ascending=False)\n",
        "\n",
        "fig = px.bar(cases_country,\n",
        "             x='Country',\n",
        "             y='Cumulative no. of confirmed, probable and suspected cases',\n",
        "             title=\"Cumulative Ebola Cases by Country (2014–2016)\",\n",
        "             color='Cumulative no. of confirmed, probable and suspected cases',\n",
        "             text='Cumulative no. of confirmed, probable and suspected cases')\n",
        "fig.update_layout(xaxis_title=\"Country\", yaxis_title=\"Number of Cases\")\n",
        "fig.show()\n"
      ],
      "metadata": {
        "id": "7dyBgxZBa1YQ"
      },
      "execution_count": null,
      "outputs": []
    },
    {
      "cell_type": "markdown",
      "source": [
        "## Step 7.4: Deaths vs Cases by Country  \n",
        "\n",
        "This scatter plot shows the relationship between **total cases and deaths** for each country.  \n",
        "Countries with higher cases also had higher deaths, which shows Ebola’s high fatality rate.  \n"
      ],
      "metadata": {
        "id": "Q9h21nPHa4nB"
      }
    },
    {
      "cell_type": "code",
      "source": [
        "# Making a scatter plot to compare deaths and cases country by country\n",
        "country_stats = df.groupby('Country').agg({\n",
        "    'Cumulative no. of confirmed, probable and suspected cases': 'max',\n",
        "    'Cumulative no. of confirmed, probable and suspected deaths': 'max'\n",
        "}).reset_index()\n",
        "\n",
        "fig = px.scatter(country_stats,\n",
        "                 x='Cumulative no. of confirmed, probable and suspected cases',\n",
        "                 y='Cumulative no. of confirmed, probable and suspected deaths',\n",
        "                 color='Country',\n",
        "                 size='Cumulative no. of confirmed, probable and suspected cases',\n",
        "                 hover_data=['Country'],\n",
        "                 title=\"Deaths vs Cases by Country (2014–2016)\")\n",
        "fig.update_layout(xaxis_title=\"Total Cases\", yaxis_title=\"Total Deaths\")\n",
        "fig.show()\n"
      ],
      "metadata": {
        "id": "KD8wt3uma7o6"
      },
      "execution_count": null,
      "outputs": []
    },
    {
      "cell_type": "markdown",
      "source": [
        "### Why are only three countries shown in the time-series plots?\n",
        "\n",
        "Although the dataset mentions several countries, the **majority of cases and deaths** occurred in **Liberia, Sierra Leone, and Guinea**.  \n",
        "Other countries reported very few cases, so when plotted on the same scale, their numbers appear almost negligible.  \n",
        "For clarity, the graphs focus on these three main countries, which were the **epicenter of the Ebola outbreak**.\n",
        "### My Key Observations\n",
        "\n",
        "1. Ebola cases rose very steeply during 2014–2015 before the outbreak slowed down.  \n",
        "2. The three most affected countries were **Guinea, Liberia, and Sierra Leone**.  \n",
        "3. Death counts follow case counts very closely, showing Ebola’s very high fatality rate.  \n",
        "4. Other countries had cases, but compared to these three, they were much less impacted.  \n",
        "\n",
        "### Conclusion (in my words)\n",
        "\n",
        "This analysis clearly shows how the Ebola epidemic of 2014–2016 was one of the deadliest outbreaks in modern history.  \n",
        "The data visualization highlights how quickly cases rose, how concentrated the outbreak was in West Africa, and how important international intervention was to bring the outbreak under control.  \n"
      ],
      "metadata": {
        "id": "lsMQed_9a-IE"
      }
    }
  ]
}